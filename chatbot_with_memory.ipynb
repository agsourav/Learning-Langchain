{
 "cells": [
  {
   "cell_type": "code",
   "execution_count": 1,
   "id": "543afb58-3f11-475a-9b16-9314aee11dbe",
   "metadata": {
    "tags": []
   },
   "outputs": [],
   "source": [
    "from langchain import HuggingFaceHub\n",
    "from langchain.chains import ConversationChain"
   ]
  },
  {
   "cell_type": "code",
   "execution_count": 2,
   "id": "b437c299-879e-480a-891f-070f95451996",
   "metadata": {
    "tags": []
   },
   "outputs": [
    {
     "name": "stdin",
     "output_type": "stream",
     "text": [
      "Hugging face api key: ········\n"
     ]
    }
   ],
   "source": [
    "#loading the API key\n",
    "import getpass\n",
    "import os\n",
    "os.environ['HUGGING_FACE_HUB_API_KEY'] = getpass.getpass('Hugging face api key:')"
   ]
  },
  {
   "cell_type": "code",
   "execution_count": 21,
   "id": "fa596378-f78c-4caa-b3b7-d61bf3363b9a",
   "metadata": {
    "tags": []
   },
   "outputs": [],
   "source": [
    "#repo_id = 'tiiuae/falcon-7b'\n",
    "#repo_id = 'declare-lab/flan-alpaca-gpt4-xl'\n",
    "#repo_id = 'declare-lab/flan-alpaca-large'\n",
    "#repo_id = 'databricks/dolly-v2-3b'\n",
    "repo_id = 'google/flan-t5-base'   #do not provide good conversational support\n",
    "#repo_id = 'lmsys/fastchat-t5-3b-v1.0'\n",
    "llm = HuggingFaceHub(huggingfacehub_api_token = os.environ['HUGGING_FACE_HUB_API_KEY'],\n",
    "              repo_id=repo_id,\n",
    "                     model_kwargs = {'temperature': 1e-10, \"max_length\":32})\n",
    "    "
   ]
  },
  {
   "cell_type": "code",
   "execution_count": 22,
   "id": "5ee70c73-6e8f-4925-9df8-14112f5f191e",
   "metadata": {
    "tags": []
   },
   "outputs": [],
   "source": [
    "conversation = ConversationChain(llm=llm)"
   ]
  },
  {
   "cell_type": "code",
   "execution_count": 23,
   "id": "91d49808-dbb3-4fa7-94da-12aea82f8cee",
   "metadata": {
    "tags": []
   },
   "outputs": [
    {
     "name": "stdout",
     "output_type": "stream",
     "text": [
      "The following is a friendly conversation between a human and an AI. The AI is talkative and provides lots of specific details from its context. If the AI does not know the answer to a question, it truthfully says it does not know.\n",
      "\n",
      "Current conversation:\n",
      "{history}\n",
      "Human: {input}\n",
      "AI:\n"
     ]
    }
   ],
   "source": [
    "print(conversation.prompt.template)"
   ]
  },
  {
   "cell_type": "code",
   "execution_count": 24,
   "id": "6c36f575-b8af-44d3-973c-76e57b1cde5b",
   "metadata": {
    "tags": []
   },
   "outputs": [],
   "source": [
    "from langchain.chains.conversation.memory import ConversationBufferMemory\n",
    "\n",
    "memory = ConversationBufferMemory()\n",
    "conversation_buf = ConversationChain(\n",
    "    llm=llm,\n",
    "    memory=memory)"
   ]
  },
  {
   "cell_type": "code",
   "execution_count": null,
   "id": "59116329-ce5d-4d0c-8c67-4d4c2375e2c3",
   "metadata": {
    "tags": []
   },
   "outputs": [],
   "source": [
    "conversation_buf.predict(input=\"Hi! My name is Sourav. I do have some questions for you\")"
   ]
  },
  {
   "cell_type": "code",
   "execution_count": 20,
   "id": "a5cb5c3e-7115-49b8-b902-3b8f1c962caf",
   "metadata": {
    "tags": []
   },
   "outputs": [
    {
     "data": {
      "text/plain": [
       "'Human: Hi! My name is Sourav. I do have some questions for you AI: Human: Hi! My name is Sourav'"
      ]
     },
     "execution_count": 20,
     "metadata": {},
     "output_type": "execute_result"
    }
   ],
   "source": [
    "query1 = \"I live in India. Who was the first President?\"\n",
    "conversation_buf.predict(input=query1)"
   ]
  },
  {
   "cell_type": "code",
   "execution_count": 10,
   "id": "690f47ee-5949-41a0-b97c-007429508f82",
   "metadata": {
    "tags": []
   },
   "outputs": [
    {
     "data": {
      "text/plain": [
       "{'history': 'Human: Translate the following from English to Spanish: Hi! My name is Sourav\\nAI: Hi! Mi nombre es Sourav AI:\\nHuman: Translate the text from English to Spanish: My interest here is to explore the capabilities of LLMs and build conversation chatbots\\nAI: Mi interés aqu es explorar las capacidades de LLM y construir chatbots de conversa'}"
      ]
     },
     "execution_count": 10,
     "metadata": {},
     "output_type": "execute_result"
    }
   ],
   "source": [
    "memory.load_memory_variables({})"
   ]
  },
  {
   "cell_type": "code",
   "execution_count": 11,
   "id": "a4a1867a-6257-4062-b64d-7e02e02686b1",
   "metadata": {
    "tags": []
   },
   "outputs": [
    {
     "data": {
      "text/plain": [
       "'Summariza la historia AI:'"
      ]
     },
     "execution_count": 11,
     "metadata": {},
     "output_type": "execute_result"
    }
   ],
   "source": [
    "query2 = \"Summarize the history\"\n",
    "conversation_buf.predict(input=query2)"
   ]
  },
  {
   "cell_type": "code",
   "execution_count": 12,
   "id": "9b6614f7-46b7-4c3b-af62-01fc8db69e10",
   "metadata": {
    "tags": []
   },
   "outputs": [
    {
     "data": {
      "text/plain": [
       "'Human: Qué es mi nombre? AI: Qué es el nombre de mi nombre?'"
      ]
     },
     "execution_count": 12,
     "metadata": {},
     "output_type": "execute_result"
    }
   ],
   "source": [
    "query3 = \"what is my name?\"\n",
    "conversation_buf.predict(input=query3)"
   ]
  },
  {
   "cell_type": "code",
   "execution_count": 13,
   "id": "bdfc6cc5-5991-4b07-a98a-b05c9d042c4f",
   "metadata": {},
   "outputs": [
    {
     "data": {
      "text/plain": [
       "'Human: Translate the following from English to Spanish: Hi! My name is Sourav\\nAI: Hi! Mi nombre es Sourav AI:\\nHuman: Translate the text from English to Spanish: My interest here is to explore the capabilities of LLMs and build conversation chatbots\\nAI: Mi interés aqu es explorar las capacidades de LLM y construir chatbots de conversa\\nHuman: Summarize the history\\nAI: Summariza la historia AI:\\nHuman: what is my name?\\nAI: Human: Qué es mi nombre? AI: Qué es el nombre de mi nombre?'"
      ]
     },
     "execution_count": 13,
     "metadata": {},
     "output_type": "execute_result"
    }
   ],
   "source": [
    "memory.buffer"
   ]
  },
  {
   "cell_type": "code",
   "execution_count": null,
   "id": "9904fe23-6336-4f2c-96ce-a125903eca1b",
   "metadata": {},
   "outputs": [],
   "source": []
  }
 ],
 "metadata": {
  "kernelspec": {
   "display_name": "Python 3 (ipykernel)",
   "language": "python",
   "name": "python3"
  },
  "language_info": {
   "codemirror_mode": {
    "name": "ipython",
    "version": 3
   },
   "file_extension": ".py",
   "mimetype": "text/x-python",
   "name": "python",
   "nbconvert_exporter": "python",
   "pygments_lexer": "ipython3",
   "version": "3.10.9"
  }
 },
 "nbformat": 4,
 "nbformat_minor": 5
}
